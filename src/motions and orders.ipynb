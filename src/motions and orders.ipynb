{
 "cells": [
  {
   "cell_type": "code",
   "execution_count": 1,
   "id": "80e9a216",
   "metadata": {},
   "outputs": [],
   "source": [
    "import pandas as pd\n",
    "import re"
   ]
  },
  {
   "cell_type": "code",
   "execution_count": 2,
   "id": "402a5d35",
   "metadata": {},
   "outputs": [
    {
     "ename": "SyntaxError",
     "evalue": "(unicode error) 'unicodeescape' codec can't decode bytes in position 2-3: truncated \\UXXXXXXXX escape (1059158833.py, line 1)",
     "output_type": "error",
     "traceback": [
      "\u001b[1;36m  Input \u001b[1;32mIn [2]\u001b[1;36m\u001b[0m\n\u001b[1;33m    df = pd.read_csv('C:\\Users\\alanx\\Downloads\\motions.csv')\u001b[0m\n\u001b[1;37m                                                           ^\u001b[0m\n\u001b[1;31mSyntaxError\u001b[0m\u001b[1;31m:\u001b[0m (unicode error) 'unicodeescape' codec can't decode bytes in position 2-3: truncated \\UXXXXXXXX escape\n"
     ]
    }
   ],
   "source": [
    "df = pd.read_csv('C:\\Users\\alanx\\Downloads\\motions.csv')"
   ]
  },
  {
   "cell_type": "code",
   "execution_count": 2,
   "id": "f4819418",
   "metadata": {
    "scrolled": true
   },
   "outputs": [],
   "source": [
    "df = pd.read_csv('../data/motions_laws/nwu_docket_entries.csv')"
   ]
  },
  {
   "cell_type": "code",
   "execution_count": 3,
   "id": "e933e384",
   "metadata": {},
   "outputs": [
    {
     "data": {
      "text/html": [
       "<div>\n",
       "<style scoped>\n",
       "    .dataframe tbody tr th:only-of-type {\n",
       "        vertical-align: middle;\n",
       "    }\n",
       "\n",
       "    .dataframe tbody tr th {\n",
       "        vertical-align: top;\n",
       "    }\n",
       "\n",
       "    .dataframe thead th {\n",
       "        text-align: right;\n",
       "    }\n",
       "</style>\n",
       "<table border=\"1\" class=\"dataframe\">\n",
       "  <thead>\n",
       "    <tr style=\"text-align: right;\">\n",
       "      <th></th>\n",
       "      <th>legacyid</th>\n",
       "      <th>date</th>\n",
       "      <th>number</th>\n",
       "      <th>description</th>\n",
       "    </tr>\n",
       "  </thead>\n",
       "  <tbody>\n",
       "    <tr>\n",
       "      <th>0</th>\n",
       "      <td>IL-CDCT1:15CV01001</td>\n",
       "      <td>03/10/2015</td>\n",
       "      <td>4.0</td>\n",
       "      <td>NOTICE of Appearance of Attorney by Joseph S T...</td>\n",
       "    </tr>\n",
       "    <tr>\n",
       "      <th>1</th>\n",
       "      <td>IL-CDCT1:15CV01001</td>\n",
       "      <td>04/23/2015</td>\n",
       "      <td>9.0</td>\n",
       "      <td>NOTICE of Appearance of Attorney by Christophe...</td>\n",
       "    </tr>\n",
       "    <tr>\n",
       "      <th>2</th>\n",
       "      <td>IL-CDCT1:15CV01001</td>\n",
       "      <td>01/04/2016</td>\n",
       "      <td>11.0</td>\n",
       "      <td>Joint MOTION for Extension of Time to Complete...</td>\n",
       "    </tr>\n",
       "    <tr>\n",
       "      <th>3</th>\n",
       "      <td>IL-CDCT1:15CV01001</td>\n",
       "      <td>01/11/2016</td>\n",
       "      <td>NaN</td>\n",
       "      <td>TEXT ORDER granting  &lt;gil&gt;11&lt;/gil&gt;  Motion for...</td>\n",
       "    </tr>\n",
       "    <tr>\n",
       "      <th>4</th>\n",
       "      <td>IL-CDCT1:15CV01001</td>\n",
       "      <td>04/22/2016</td>\n",
       "      <td>NaN</td>\n",
       "      <td>ORAL MOTION by Attorney Busey for continuance ...</td>\n",
       "    </tr>\n",
       "  </tbody>\n",
       "</table>\n",
       "</div>"
      ],
      "text/plain": [
       "             legacyid        date  number  \\\n",
       "0  IL-CDCT1:15CV01001  03/10/2015     4.0   \n",
       "1  IL-CDCT1:15CV01001  04/23/2015     9.0   \n",
       "2  IL-CDCT1:15CV01001  01/04/2016    11.0   \n",
       "3  IL-CDCT1:15CV01001  01/11/2016     NaN   \n",
       "4  IL-CDCT1:15CV01001  04/22/2016     NaN   \n",
       "\n",
       "                                         description  \n",
       "0  NOTICE of Appearance of Attorney by Joseph S T...  \n",
       "1  NOTICE of Appearance of Attorney by Christophe...  \n",
       "2  Joint MOTION for Extension of Time to Complete...  \n",
       "3  TEXT ORDER granting  <gil>11</gil>  Motion for...  \n",
       "4  ORAL MOTION by Attorney Busey for continuance ...  "
      ]
     },
     "execution_count": 3,
     "metadata": {},
     "output_type": "execute_result"
    }
   ],
   "source": [
    "df.head()"
   ]
  },
  {
   "cell_type": "code",
   "execution_count": 4,
   "id": "7a57ab3e",
   "metadata": {},
   "outputs": [
    {
     "data": {
      "text/html": [
       "<div>\n",
       "<style scoped>\n",
       "    .dataframe tbody tr th:only-of-type {\n",
       "        vertical-align: middle;\n",
       "    }\n",
       "\n",
       "    .dataframe tbody tr th {\n",
       "        vertical-align: top;\n",
       "    }\n",
       "\n",
       "    .dataframe thead th {\n",
       "        text-align: right;\n",
       "    }\n",
       "</style>\n",
       "<table border=\"1\" class=\"dataframe\">\n",
       "  <thead>\n",
       "    <tr style=\"text-align: right;\">\n",
       "      <th></th>\n",
       "      <th>legacyid</th>\n",
       "      <th>date</th>\n",
       "      <th>number</th>\n",
       "      <th>description</th>\n",
       "    </tr>\n",
       "  </thead>\n",
       "  <tbody>\n",
       "    <tr>\n",
       "      <th>2</th>\n",
       "      <td>IL-CDCT1:15CV01001</td>\n",
       "      <td>01/04/2016</td>\n",
       "      <td>11.0</td>\n",
       "      <td>Joint MOTION for Extension of Time to Complete...</td>\n",
       "    </tr>\n",
       "    <tr>\n",
       "      <th>4</th>\n",
       "      <td>IL-CDCT1:15CV01001</td>\n",
       "      <td>04/22/2016</td>\n",
       "      <td>NaN</td>\n",
       "      <td>ORAL MOTION by Attorney Busey for continuance ...</td>\n",
       "    </tr>\n",
       "    <tr>\n",
       "      <th>7</th>\n",
       "      <td>IL-CDCT1:15CV01001</td>\n",
       "      <td>05/31/2016</td>\n",
       "      <td>12.0</td>\n",
       "      <td>Joint MOTION for Extension of Time to Complete...</td>\n",
       "    </tr>\n",
       "    <tr>\n",
       "      <th>8</th>\n",
       "      <td>IL-CDCT1:15CV01001</td>\n",
       "      <td>06/08/2016</td>\n",
       "      <td>14.0</td>\n",
       "      <td>First MOTION to Compel by Plaintiff Catherine ...</td>\n",
       "    </tr>\n",
       "    <tr>\n",
       "      <th>12</th>\n",
       "      <td>IL-CDCT1:15CV01001</td>\n",
       "      <td>01/20/2017</td>\n",
       "      <td>22.0</td>\n",
       "      <td>Consent MOTION for Extension of Time to Comple...</td>\n",
       "    </tr>\n",
       "  </tbody>\n",
       "</table>\n",
       "</div>"
      ],
      "text/plain": [
       "              legacyid        date  number  \\\n",
       "2   IL-CDCT1:15CV01001  01/04/2016    11.0   \n",
       "4   IL-CDCT1:15CV01001  04/22/2016     NaN   \n",
       "7   IL-CDCT1:15CV01001  05/31/2016    12.0   \n",
       "8   IL-CDCT1:15CV01001  06/08/2016    14.0   \n",
       "12  IL-CDCT1:15CV01001  01/20/2017    22.0   \n",
       "\n",
       "                                          description  \n",
       "2   Joint MOTION for Extension of Time to Complete...  \n",
       "4   ORAL MOTION by Attorney Busey for continuance ...  \n",
       "7   Joint MOTION for Extension of Time to Complete...  \n",
       "8   First MOTION to Compel by Plaintiff Catherine ...  \n",
       "12  Consent MOTION for Extension of Time to Comple...  "
      ]
     },
     "execution_count": 4,
     "metadata": {},
     "output_type": "execute_result"
    }
   ],
   "source": [
    "motions = df.loc[df['description'].str.contains('MOTION')]\n",
    "motions.head()"
   ]
  },
  {
   "cell_type": "code",
   "execution_count": 5,
   "id": "afba7a28",
   "metadata": {},
   "outputs": [
    {
     "data": {
      "text/html": [
       "<div>\n",
       "<style scoped>\n",
       "    .dataframe tbody tr th:only-of-type {\n",
       "        vertical-align: middle;\n",
       "    }\n",
       "\n",
       "    .dataframe tbody tr th {\n",
       "        vertical-align: top;\n",
       "    }\n",
       "\n",
       "    .dataframe thead th {\n",
       "        text-align: right;\n",
       "    }\n",
       "</style>\n",
       "<table border=\"1\" class=\"dataframe\">\n",
       "  <thead>\n",
       "    <tr style=\"text-align: right;\">\n",
       "      <th></th>\n",
       "      <th>legacyid</th>\n",
       "      <th>date</th>\n",
       "      <th>number</th>\n",
       "      <th>description</th>\n",
       "    </tr>\n",
       "  </thead>\n",
       "  <tbody>\n",
       "    <tr>\n",
       "      <th>3</th>\n",
       "      <td>IL-CDCT1:15CV01001</td>\n",
       "      <td>01/11/2016</td>\n",
       "      <td>NaN</td>\n",
       "      <td>TEXT ORDER granting  &lt;gil&gt;11&lt;/gil&gt;  Motion for...</td>\n",
       "    </tr>\n",
       "    <tr>\n",
       "      <th>11</th>\n",
       "      <td>IL-CDCT1:15CV01001</td>\n",
       "      <td>08/26/2016</td>\n",
       "      <td>NaN</td>\n",
       "      <td>TEXT ORDER: The Court adopts the parties' join...</td>\n",
       "    </tr>\n",
       "    <tr>\n",
       "      <th>13</th>\n",
       "      <td>IL-CDCT1:15CV01001</td>\n",
       "      <td>01/23/2017</td>\n",
       "      <td>NaN</td>\n",
       "      <td>TEXT ORDER granting  &lt;gil&gt;22&lt;/gil&gt;  Motion for...</td>\n",
       "    </tr>\n",
       "    <tr>\n",
       "      <th>18</th>\n",
       "      <td>IL-CDCT1:15CV01001</td>\n",
       "      <td>05/16/2017</td>\n",
       "      <td>NaN</td>\n",
       "      <td>TEXT ORDER entered by Judge Sara Darrow on May...</td>\n",
       "    </tr>\n",
       "    <tr>\n",
       "      <th>20</th>\n",
       "      <td>IL-CDCT1:15CV01001</td>\n",
       "      <td>09/01/2017</td>\n",
       "      <td>39.0</td>\n",
       "      <td>ORDER entered by Judge Sara Darrow on Septembe...</td>\n",
       "    </tr>\n",
       "  </tbody>\n",
       "</table>\n",
       "</div>"
      ],
      "text/plain": [
       "              legacyid        date  number  \\\n",
       "3   IL-CDCT1:15CV01001  01/11/2016     NaN   \n",
       "11  IL-CDCT1:15CV01001  08/26/2016     NaN   \n",
       "13  IL-CDCT1:15CV01001  01/23/2017     NaN   \n",
       "18  IL-CDCT1:15CV01001  05/16/2017     NaN   \n",
       "20  IL-CDCT1:15CV01001  09/01/2017    39.0   \n",
       "\n",
       "                                          description  \n",
       "3   TEXT ORDER granting  <gil>11</gil>  Motion for...  \n",
       "11  TEXT ORDER: The Court adopts the parties' join...  \n",
       "13  TEXT ORDER granting  <gil>22</gil>  Motion for...  \n",
       "18  TEXT ORDER entered by Judge Sara Darrow on May...  \n",
       "20  ORDER entered by Judge Sara Darrow on Septembe...  "
      ]
     },
     "execution_count": 5,
     "metadata": {},
     "output_type": "execute_result"
    }
   ],
   "source": [
    "orders = df.loc[df['description'].str.contains('ORDER')]\n",
    "orders.head()"
   ]
  },
  {
   "cell_type": "code",
   "execution_count": 6,
   "id": "3db81cb8",
   "metadata": {},
   "outputs": [],
   "source": [
    "orders.to_csv('../data/motions_laws/orders.csv', index=False)"
   ]
  },
  {
   "cell_type": "code",
   "execution_count": 7,
   "id": "c1f619a3",
   "metadata": {},
   "outputs": [],
   "source": [
    "motions.to_csv('../data/motions_laws/motions.csv', index=False)"
   ]
  },
  {
   "cell_type": "code",
   "execution_count": 8,
   "id": "5186b817",
   "metadata": {},
   "outputs": [
    {
     "data": {
      "text/plain": [
       "12    Consent MOTION for Extension of Time to Comple...\n",
       "Name: description, dtype: object"
      ]
     },
     "execution_count": 8,
     "metadata": {},
     "output_type": "execute_result"
    }
   ],
   "source": [
    "motions.loc[(motions['legacyid'] == 'IL-CDCT1:15CV01001') & (motions['number'] == 22)]['description']\n"
   ]
  },
  {
   "cell_type": "code",
   "execution_count": 9,
   "id": "cb4c1429",
   "metadata": {},
   "outputs": [
    {
     "data": {
      "text/html": [
       "<div>\n",
       "<style scoped>\n",
       "    .dataframe tbody tr th:only-of-type {\n",
       "        vertical-align: middle;\n",
       "    }\n",
       "\n",
       "    .dataframe tbody tr th {\n",
       "        vertical-align: top;\n",
       "    }\n",
       "\n",
       "    .dataframe thead th {\n",
       "        text-align: right;\n",
       "    }\n",
       "</style>\n",
       "<table border=\"1\" class=\"dataframe\">\n",
       "  <thead>\n",
       "    <tr style=\"text-align: right;\">\n",
       "      <th></th>\n",
       "      <th>legacyid</th>\n",
       "      <th>date</th>\n",
       "      <th>number</th>\n",
       "      <th>description</th>\n",
       "    </tr>\n",
       "  </thead>\n",
       "  <tbody>\n",
       "    <tr>\n",
       "      <th>3</th>\n",
       "      <td>IL-CDCT1:15CV01001</td>\n",
       "      <td>01/11/2016</td>\n",
       "      <td>NaN</td>\n",
       "      <td>TEXT ORDER granting  &lt;gil&gt;11&lt;/gil&gt;  Motion for...</td>\n",
       "    </tr>\n",
       "    <tr>\n",
       "      <th>11</th>\n",
       "      <td>IL-CDCT1:15CV01001</td>\n",
       "      <td>08/26/2016</td>\n",
       "      <td>NaN</td>\n",
       "      <td>TEXT ORDER: The Court adopts the parties' join...</td>\n",
       "    </tr>\n",
       "    <tr>\n",
       "      <th>13</th>\n",
       "      <td>IL-CDCT1:15CV01001</td>\n",
       "      <td>01/23/2017</td>\n",
       "      <td>NaN</td>\n",
       "      <td>TEXT ORDER granting  &lt;gil&gt;22&lt;/gil&gt;  Motion for...</td>\n",
       "    </tr>\n",
       "    <tr>\n",
       "      <th>18</th>\n",
       "      <td>IL-CDCT1:15CV01001</td>\n",
       "      <td>05/16/2017</td>\n",
       "      <td>NaN</td>\n",
       "      <td>TEXT ORDER entered by Judge Sara Darrow on May...</td>\n",
       "    </tr>\n",
       "    <tr>\n",
       "      <th>20</th>\n",
       "      <td>IL-CDCT1:15CV01001</td>\n",
       "      <td>09/01/2017</td>\n",
       "      <td>39.0</td>\n",
       "      <td>ORDER entered by Judge Sara Darrow on Septembe...</td>\n",
       "    </tr>\n",
       "  </tbody>\n",
       "</table>\n",
       "</div>"
      ],
      "text/plain": [
       "              legacyid        date  number  \\\n",
       "3   IL-CDCT1:15CV01001  01/11/2016     NaN   \n",
       "11  IL-CDCT1:15CV01001  08/26/2016     NaN   \n",
       "13  IL-CDCT1:15CV01001  01/23/2017     NaN   \n",
       "18  IL-CDCT1:15CV01001  05/16/2017     NaN   \n",
       "20  IL-CDCT1:15CV01001  09/01/2017    39.0   \n",
       "\n",
       "                                          description  \n",
       "3   TEXT ORDER granting  <gil>11</gil>  Motion for...  \n",
       "11  TEXT ORDER: The Court adopts the parties' join...  \n",
       "13  TEXT ORDER granting  <gil>22</gil>  Motion for...  \n",
       "18  TEXT ORDER entered by Judge Sara Darrow on May...  \n",
       "20  ORDER entered by Judge Sara Darrow on Septembe...  "
      ]
     },
     "execution_count": 9,
     "metadata": {},
     "output_type": "execute_result"
    }
   ],
   "source": [
    "orders.head()"
   ]
  },
  {
   "cell_type": "code",
   "execution_count": 10,
   "id": "13fd0d18",
   "metadata": {},
   "outputs": [
    {
     "data": {
      "text/html": [
       "<div>\n",
       "<style scoped>\n",
       "    .dataframe tbody tr th:only-of-type {\n",
       "        vertical-align: middle;\n",
       "    }\n",
       "\n",
       "    .dataframe tbody tr th {\n",
       "        vertical-align: top;\n",
       "    }\n",
       "\n",
       "    .dataframe thead th {\n",
       "        text-align: right;\n",
       "    }\n",
       "</style>\n",
       "<table border=\"1\" class=\"dataframe\">\n",
       "  <thead>\n",
       "    <tr style=\"text-align: right;\">\n",
       "      <th></th>\n",
       "      <th>legacyid</th>\n",
       "      <th>date</th>\n",
       "      <th>number</th>\n",
       "      <th>description</th>\n",
       "    </tr>\n",
       "  </thead>\n",
       "  <tbody>\n",
       "    <tr>\n",
       "      <th>3</th>\n",
       "      <td>IL-CDCT1:15CV01001</td>\n",
       "      <td>01/11/2016</td>\n",
       "      <td>NaN</td>\n",
       "      <td>TEXT ORDER granting  &lt;gil&gt;11&lt;/gil&gt;  Motion for...</td>\n",
       "    </tr>\n",
       "    <tr>\n",
       "      <th>11</th>\n",
       "      <td>IL-CDCT1:15CV01001</td>\n",
       "      <td>08/26/2016</td>\n",
       "      <td>NaN</td>\n",
       "      <td>TEXT ORDER: The Court adopts the parties' join...</td>\n",
       "    </tr>\n",
       "    <tr>\n",
       "      <th>13</th>\n",
       "      <td>IL-CDCT1:15CV01001</td>\n",
       "      <td>01/23/2017</td>\n",
       "      <td>NaN</td>\n",
       "      <td>TEXT ORDER granting  &lt;gil&gt;22&lt;/gil&gt;  Motion for...</td>\n",
       "    </tr>\n",
       "    <tr>\n",
       "      <th>18</th>\n",
       "      <td>IL-CDCT1:15CV01001</td>\n",
       "      <td>05/16/2017</td>\n",
       "      <td>NaN</td>\n",
       "      <td>TEXT ORDER entered by Judge Sara Darrow on May...</td>\n",
       "    </tr>\n",
       "    <tr>\n",
       "      <th>20</th>\n",
       "      <td>IL-CDCT1:15CV01001</td>\n",
       "      <td>09/01/2017</td>\n",
       "      <td>39.0</td>\n",
       "      <td>ORDER entered by Judge Sara Darrow on Septembe...</td>\n",
       "    </tr>\n",
       "    <tr>\n",
       "      <th>...</th>\n",
       "      <td>...</td>\n",
       "      <td>...</td>\n",
       "      <td>...</td>\n",
       "      <td>...</td>\n",
       "    </tr>\n",
       "    <tr>\n",
       "      <th>637614</th>\n",
       "      <td>WI-WDCT3:19CV01066</td>\n",
       "      <td>03/23/2020</td>\n",
       "      <td>33.0</td>\n",
       "      <td>** TEXT ONLY ORDER ** ORDER granting  &lt;gil&gt;30&lt;...</td>\n",
       "    </tr>\n",
       "    <tr>\n",
       "      <th>637616</th>\n",
       "      <td>WI-WDCT3:19CV01066</td>\n",
       "      <td>03/23/2020</td>\n",
       "      <td>35.0</td>\n",
       "      <td>** TEXT ONLY ORDER ** ORDER granting  &lt;gil&gt;34&lt;...</td>\n",
       "    </tr>\n",
       "    <tr>\n",
       "      <th>637617</th>\n",
       "      <td>WI-WDCT3:19CV01066</td>\n",
       "      <td>03/24/2020</td>\n",
       "      <td>36.0</td>\n",
       "      <td>** TEXT ONLY ORDER ** At the telephone confere...</td>\n",
       "    </tr>\n",
       "    <tr>\n",
       "      <th>637622</th>\n",
       "      <td>WI-WDCT3:19CV01066</td>\n",
       "      <td>05/06/2020</td>\n",
       "      <td>42.0</td>\n",
       "      <td>** TEXT ONLY ORDER ** The parties' request for...</td>\n",
       "    </tr>\n",
       "    <tr>\n",
       "      <th>637623</th>\n",
       "      <td>WI-WDCT3:19CV01066</td>\n",
       "      <td>05/11/2020</td>\n",
       "      <td>46.0</td>\n",
       "      <td>** TEXT ONLY ORDER ** Stipulation accepted, ex...</td>\n",
       "    </tr>\n",
       "  </tbody>\n",
       "</table>\n",
       "<p>139999 rows × 4 columns</p>\n",
       "</div>"
      ],
      "text/plain": [
       "                  legacyid        date  number  \\\n",
       "3       IL-CDCT1:15CV01001  01/11/2016     NaN   \n",
       "11      IL-CDCT1:15CV01001  08/26/2016     NaN   \n",
       "13      IL-CDCT1:15CV01001  01/23/2017     NaN   \n",
       "18      IL-CDCT1:15CV01001  05/16/2017     NaN   \n",
       "20      IL-CDCT1:15CV01001  09/01/2017    39.0   \n",
       "...                    ...         ...     ...   \n",
       "637614  WI-WDCT3:19CV01066  03/23/2020    33.0   \n",
       "637616  WI-WDCT3:19CV01066  03/23/2020    35.0   \n",
       "637617  WI-WDCT3:19CV01066  03/24/2020    36.0   \n",
       "637622  WI-WDCT3:19CV01066  05/06/2020    42.0   \n",
       "637623  WI-WDCT3:19CV01066  05/11/2020    46.0   \n",
       "\n",
       "                                              description  \n",
       "3       TEXT ORDER granting  <gil>11</gil>  Motion for...  \n",
       "11      TEXT ORDER: The Court adopts the parties' join...  \n",
       "13      TEXT ORDER granting  <gil>22</gil>  Motion for...  \n",
       "18      TEXT ORDER entered by Judge Sara Darrow on May...  \n",
       "20      ORDER entered by Judge Sara Darrow on Septembe...  \n",
       "...                                                   ...  \n",
       "637614  ** TEXT ONLY ORDER ** ORDER granting  <gil>30<...  \n",
       "637616  ** TEXT ONLY ORDER ** ORDER granting  <gil>34<...  \n",
       "637617  ** TEXT ONLY ORDER ** At the telephone confere...  \n",
       "637622  ** TEXT ONLY ORDER ** The parties' request for...  \n",
       "637623  ** TEXT ONLY ORDER ** Stipulation accepted, ex...  \n",
       "\n",
       "[139999 rows x 4 columns]"
      ]
     },
     "execution_count": 10,
     "metadata": {},
     "output_type": "execute_result"
    }
   ],
   "source": [
    "orders.loc[orders['description'].str.contains('<gil>')]"
   ]
  },
  {
   "cell_type": "code",
   "execution_count": 11,
   "id": "4e2cdbea",
   "metadata": {
    "scrolled": true
   },
   "outputs": [
    {
     "data": {
      "text/html": [
       "<div>\n",
       "<style scoped>\n",
       "    .dataframe tbody tr th:only-of-type {\n",
       "        vertical-align: middle;\n",
       "    }\n",
       "\n",
       "    .dataframe tbody tr th {\n",
       "        vertical-align: top;\n",
       "    }\n",
       "\n",
       "    .dataframe thead th {\n",
       "        text-align: right;\n",
       "    }\n",
       "</style>\n",
       "<table border=\"1\" class=\"dataframe\">\n",
       "  <thead>\n",
       "    <tr style=\"text-align: right;\">\n",
       "      <th></th>\n",
       "      <th>legacyid</th>\n",
       "      <th>date</th>\n",
       "      <th>number</th>\n",
       "      <th>description</th>\n",
       "    </tr>\n",
       "  </thead>\n",
       "  <tbody>\n",
       "    <tr>\n",
       "      <th>2</th>\n",
       "      <td>IL-CDCT1:15CV01001</td>\n",
       "      <td>01/04/2016</td>\n",
       "      <td>11.0</td>\n",
       "      <td>Joint MOTION for Extension of Time to Complete...</td>\n",
       "    </tr>\n",
       "    <tr>\n",
       "      <th>4</th>\n",
       "      <td>IL-CDCT1:15CV01001</td>\n",
       "      <td>04/22/2016</td>\n",
       "      <td>NaN</td>\n",
       "      <td>ORAL MOTION by Attorney Busey for continuance ...</td>\n",
       "    </tr>\n",
       "    <tr>\n",
       "      <th>7</th>\n",
       "      <td>IL-CDCT1:15CV01001</td>\n",
       "      <td>05/31/2016</td>\n",
       "      <td>12.0</td>\n",
       "      <td>Joint MOTION for Extension of Time to Complete...</td>\n",
       "    </tr>\n",
       "    <tr>\n",
       "      <th>8</th>\n",
       "      <td>IL-CDCT1:15CV01001</td>\n",
       "      <td>06/08/2016</td>\n",
       "      <td>14.0</td>\n",
       "      <td>First MOTION to Compel by Plaintiff Catherine ...</td>\n",
       "    </tr>\n",
       "    <tr>\n",
       "      <th>12</th>\n",
       "      <td>IL-CDCT1:15CV01001</td>\n",
       "      <td>01/20/2017</td>\n",
       "      <td>22.0</td>\n",
       "      <td>Consent MOTION for Extension of Time to Comple...</td>\n",
       "    </tr>\n",
       "    <tr>\n",
       "      <th>...</th>\n",
       "      <td>...</td>\n",
       "      <td>...</td>\n",
       "      <td>...</td>\n",
       "      <td>...</td>\n",
       "    </tr>\n",
       "    <tr>\n",
       "      <th>637555</th>\n",
       "      <td>WI-WDCT3:19CV01038</td>\n",
       "      <td>03/03/2020</td>\n",
       "      <td>20.0</td>\n",
       "      <td>MOTION TO DISMISS Plaintiffs' Amended Complain...</td>\n",
       "    </tr>\n",
       "    <tr>\n",
       "      <th>637556</th>\n",
       "      <td>WI-WDCT3:19CV01038</td>\n",
       "      <td>05/22/2020</td>\n",
       "      <td>26.0</td>\n",
       "      <td>Motion to Strike [DEFENDANTS' MOTION TO STRIKE...</td>\n",
       "    </tr>\n",
       "    <tr>\n",
       "      <th>637559</th>\n",
       "      <td>WI-WDCT3:19CV01042</td>\n",
       "      <td>01/03/2020</td>\n",
       "      <td>4.0</td>\n",
       "      <td>MOTION TO REMAND to State Court and Bar Defend...</td>\n",
       "    </tr>\n",
       "    <tr>\n",
       "      <th>637563</th>\n",
       "      <td>WI-WDCT3:19CV01047</td>\n",
       "      <td>12/23/2019</td>\n",
       "      <td>1.0</td>\n",
       "      <td>MOTION FOR PRELIMINARY INJUNCTION RELIEF, A CE...</td>\n",
       "    </tr>\n",
       "    <tr>\n",
       "      <th>637571</th>\n",
       "      <td>WI-WDCT3:19CV01052</td>\n",
       "      <td>12/26/2019</td>\n",
       "      <td>4.0</td>\n",
       "      <td>MOTION FOR PRELIMINARY INJUNCTION and/or Tempo...</td>\n",
       "    </tr>\n",
       "  </tbody>\n",
       "</table>\n",
       "<p>260590 rows × 4 columns</p>\n",
       "</div>"
      ],
      "text/plain": [
       "                  legacyid        date  number  \\\n",
       "2       IL-CDCT1:15CV01001  01/04/2016    11.0   \n",
       "4       IL-CDCT1:15CV01001  04/22/2016     NaN   \n",
       "7       IL-CDCT1:15CV01001  05/31/2016    12.0   \n",
       "8       IL-CDCT1:15CV01001  06/08/2016    14.0   \n",
       "12      IL-CDCT1:15CV01001  01/20/2017    22.0   \n",
       "...                    ...         ...     ...   \n",
       "637555  WI-WDCT3:19CV01038  03/03/2020    20.0   \n",
       "637556  WI-WDCT3:19CV01038  05/22/2020    26.0   \n",
       "637559  WI-WDCT3:19CV01042  01/03/2020     4.0   \n",
       "637563  WI-WDCT3:19CV01047  12/23/2019     1.0   \n",
       "637571  WI-WDCT3:19CV01052  12/26/2019     4.0   \n",
       "\n",
       "                                              description  \n",
       "2       Joint MOTION for Extension of Time to Complete...  \n",
       "4       ORAL MOTION by Attorney Busey for continuance ...  \n",
       "7       Joint MOTION for Extension of Time to Complete...  \n",
       "8       First MOTION to Compel by Plaintiff Catherine ...  \n",
       "12      Consent MOTION for Extension of Time to Comple...  \n",
       "...                                                   ...  \n",
       "637555  MOTION TO DISMISS Plaintiffs' Amended Complain...  \n",
       "637556  Motion to Strike [DEFENDANTS' MOTION TO STRIKE...  \n",
       "637559  MOTION TO REMAND to State Court and Bar Defend...  \n",
       "637563  MOTION FOR PRELIMINARY INJUNCTION RELIEF, A CE...  \n",
       "637571  MOTION FOR PRELIMINARY INJUNCTION and/or Tempo...  \n",
       "\n",
       "[260590 rows x 4 columns]"
      ]
     },
     "execution_count": 11,
     "metadata": {},
     "output_type": "execute_result"
    }
   ],
   "source": [
    "motions.loc[motions['description'].str.contains('')]"
   ]
  },
  {
   "cell_type": "code",
   "execution_count": 12,
   "id": "6cfe475f",
   "metadata": {
    "scrolled": true
   },
   "outputs": [
    {
     "name": "stderr",
     "output_type": "stream",
     "text": [
      "C:\\Users\\alanx\\AppData\\Local\\Temp\\ipykernel_7972\\3724176434.py:9: SettingWithCopyWarning: \n",
      "A value is trying to be set on a copy of a slice from a DataFrame.\n",
      "Try using .loc[row_indexer,col_indexer] = value instead\n",
      "\n",
      "See the caveats in the documentation: https://pandas.pydata.org/pandas-docs/stable/user_guide/indexing.html#returning-a-view-versus-a-copy\n",
      "  orders['gil'] = orders['description'].apply(lambda x: get_gil(x))\n"
     ]
    }
   ],
   "source": [
    "import re\n",
    "import numpy as np\n",
    "def get_gil(description):\n",
    "    match = re.search('<gil>[0-9]+</gil>', description)\n",
    "    if match:\n",
    "        return match.group()\n",
    "    else:\n",
    "        return np.nan\n",
    "orders['gil'] = orders['description'].apply(lambda x: get_gil(x))\n",
    "orders.to_csv('../data/motions_laws/orders.csv', index=False)"
   ]
  },
  {
   "cell_type": "code",
   "execution_count": 13,
   "id": "c01f45c3",
   "metadata": {
    "scrolled": true
   },
   "outputs": [
    {
     "data": {
      "text/plain": [
       "174329"
      ]
     },
     "execution_count": 13,
     "metadata": {},
     "output_type": "execute_result"
    }
   ],
   "source": [
    "len(orders)"
   ]
  },
  {
   "cell_type": "code",
   "execution_count": 14,
   "id": "5a76bdd8",
   "metadata": {},
   "outputs": [],
   "source": [
    "#dropping out orders without a gil in them \n",
    "orders = orders[orders['gil'].notna()]"
   ]
  },
  {
   "cell_type": "code",
   "execution_count": 35,
   "id": "c2c88603",
   "metadata": {},
   "outputs": [
    {
     "data": {
      "text/plain": [
       "139999"
      ]
     },
     "execution_count": 35,
     "metadata": {},
     "output_type": "execute_result"
    }
   ],
   "source": [
    "len(orders)"
   ]
  },
  {
   "cell_type": "code",
   "execution_count": 27,
   "id": "ae9710b6",
   "metadata": {},
   "outputs": [],
   "source": [
    "counter = 0"
   ]
  },
  {
   "cell_type": "code",
   "execution_count": 34,
   "id": "f6e3d060",
   "metadata": {},
   "outputs": [],
   "source": [
    "def find_motion(idd, gil):\n",
    "    try:\n",
    "        filteer = re.search('[0-9]+', gil).group()\n",
    "        result = motions.loc[(motions['legacyid'] == idd) & (motions['number'] == int(filteer))]\n",
    "        global counter\n",
    "        counter += 1 \n",
    "    except Exception as e:\n",
    "        if counter % 1000 == 0:\n",
    "            print(counter)\n",
    "        return np.nan\n",
    "    else:\n",
    "        if counter % 1000 == 0:\n",
    "            print(counter)\n",
    "        if result.shape[0] == 0:\n",
    "            return np.nan\n",
    "        else:\n",
    "            return result.iloc[0]['description']\n",
    "#             return result['description']"
   ]
  },
  {
   "cell_type": "code",
   "execution_count": 19,
   "id": "b5d88aca",
   "metadata": {},
   "outputs": [],
   "source": [
    "test = orders.head(20000)"
   ]
  },
  {
   "cell_type": "code",
   "execution_count": 36,
   "id": "17c8d27e",
   "metadata": {
    "scrolled": true
   },
   "outputs": [
    {
     "name": "stdout",
     "output_type": "stream",
     "text": [
      "21000\n",
      "22000\n",
      "23000\n",
      "24000\n",
      "25000\n",
      "26000\n",
      "27000\n",
      "28000\n",
      "29000\n",
      "30000\n",
      "31000\n",
      "32000\n",
      "33000\n",
      "34000\n",
      "35000\n",
      "36000\n",
      "37000\n",
      "38000\n",
      "39000\n",
      "40000\n",
      "41000\n",
      "42000\n",
      "43000\n",
      "44000\n",
      "45000\n",
      "46000\n",
      "47000\n",
      "48000\n",
      "49000\n",
      "50000\n",
      "51000\n",
      "52000\n",
      "53000\n",
      "54000\n",
      "55000\n",
      "56000\n",
      "57000\n",
      "58000\n",
      "59000\n",
      "60000\n",
      "61000\n",
      "62000\n",
      "63000\n",
      "64000\n",
      "65000\n",
      "66000\n",
      "67000\n",
      "68000\n",
      "69000\n",
      "70000\n",
      "71000\n",
      "72000\n",
      "73000\n",
      "74000\n",
      "75000\n",
      "76000\n",
      "77000\n",
      "78000\n",
      "79000\n",
      "80000\n",
      "81000\n",
      "82000\n",
      "83000\n",
      "84000\n",
      "85000\n",
      "86000\n",
      "87000\n",
      "88000\n",
      "89000\n",
      "90000\n",
      "91000\n",
      "92000\n",
      "93000\n",
      "94000\n",
      "95000\n",
      "96000\n",
      "97000\n",
      "98000\n",
      "99000\n",
      "100000\n",
      "101000\n",
      "102000\n",
      "103000\n",
      "104000\n",
      "105000\n",
      "106000\n",
      "107000\n",
      "108000\n",
      "109000\n",
      "110000\n",
      "111000\n",
      "112000\n",
      "113000\n",
      "114000\n",
      "115000\n",
      "116000\n",
      "117000\n",
      "118000\n",
      "119000\n",
      "120000\n",
      "121000\n",
      "122000\n",
      "123000\n",
      "124000\n",
      "125000\n",
      "126000\n",
      "127000\n",
      "128000\n",
      "129000\n",
      "130000\n",
      "131000\n",
      "132000\n",
      "133000\n",
      "134000\n",
      "135000\n",
      "136000\n",
      "137000\n",
      "138000\n",
      "139000\n",
      "140000\n",
      "141000\n",
      "142000\n",
      "143000\n",
      "144000\n",
      "145000\n",
      "146000\n",
      "147000\n",
      "148000\n",
      "149000\n",
      "150000\n",
      "151000\n",
      "152000\n",
      "153000\n",
      "154000\n",
      "155000\n",
      "156000\n",
      "157000\n",
      "158000\n",
      "159000\n"
     ]
    }
   ],
   "source": [
    "orders['motion'] = orders.apply(lambda x: find_motion(x['legacyid'], x['gil']), axis=1)"
   ]
  },
  {
   "cell_type": "code",
   "execution_count": 37,
   "id": "a8ad3ede",
   "metadata": {},
   "outputs": [],
   "source": [
    "orders.to_csv('../data/motions_laws/orders.csv', index=False)"
   ]
  },
  {
   "cell_type": "markdown",
   "id": "f0741859",
   "metadata": {},
   "source": [
    "# READING THE ORDERS NOW IVE RAN THE CODE "
   ]
  },
  {
   "cell_type": "code",
   "execution_count": 38,
   "id": "1a9e3a13",
   "metadata": {},
   "outputs": [],
   "source": [
    "ORDERS = pd.read_csv('../data/motions_laws/orders.csv')"
   ]
  },
  {
   "cell_type": "code",
   "execution_count": 40,
   "id": "23a5aaaf",
   "metadata": {},
   "outputs": [
    {
     "name": "stdout",
     "output_type": "stream",
     "text": [
      "139999\n"
     ]
    },
    {
     "data": {
      "text/html": [
       "<div>\n",
       "<style scoped>\n",
       "    .dataframe tbody tr th:only-of-type {\n",
       "        vertical-align: middle;\n",
       "    }\n",
       "\n",
       "    .dataframe tbody tr th {\n",
       "        vertical-align: top;\n",
       "    }\n",
       "\n",
       "    .dataframe thead th {\n",
       "        text-align: right;\n",
       "    }\n",
       "</style>\n",
       "<table border=\"1\" class=\"dataframe\">\n",
       "  <thead>\n",
       "    <tr style=\"text-align: right;\">\n",
       "      <th></th>\n",
       "      <th>legacyid</th>\n",
       "      <th>date</th>\n",
       "      <th>number</th>\n",
       "      <th>description</th>\n",
       "      <th>gil</th>\n",
       "      <th>motion</th>\n",
       "    </tr>\n",
       "  </thead>\n",
       "  <tbody>\n",
       "    <tr>\n",
       "      <th>0</th>\n",
       "      <td>IL-CDCT1:15CV01001</td>\n",
       "      <td>01/11/2016</td>\n",
       "      <td>NaN</td>\n",
       "      <td>TEXT ORDER granting  &lt;gil&gt;11&lt;/gil&gt;  Motion for...</td>\n",
       "      <td>&lt;gil&gt;11&lt;/gil&gt;</td>\n",
       "      <td>Joint MOTION for Extension of Time to Complete...</td>\n",
       "    </tr>\n",
       "    <tr>\n",
       "      <th>1</th>\n",
       "      <td>IL-CDCT1:15CV01001</td>\n",
       "      <td>08/26/2016</td>\n",
       "      <td>NaN</td>\n",
       "      <td>TEXT ORDER: The Court adopts the parties' join...</td>\n",
       "      <td>&lt;gil&gt;21&lt;/gil&gt;</td>\n",
       "      <td>NaN</td>\n",
       "    </tr>\n",
       "    <tr>\n",
       "      <th>2</th>\n",
       "      <td>IL-CDCT1:15CV01001</td>\n",
       "      <td>01/23/2017</td>\n",
       "      <td>NaN</td>\n",
       "      <td>TEXT ORDER granting  &lt;gil&gt;22&lt;/gil&gt;  Motion for...</td>\n",
       "      <td>&lt;gil&gt;22&lt;/gil&gt;</td>\n",
       "      <td>Consent MOTION for Extension of Time to Comple...</td>\n",
       "    </tr>\n",
       "    <tr>\n",
       "      <th>3</th>\n",
       "      <td>IL-CDCT1:15CV01001</td>\n",
       "      <td>05/16/2017</td>\n",
       "      <td>NaN</td>\n",
       "      <td>TEXT ORDER entered by Judge Sara Darrow on May...</td>\n",
       "      <td>&lt;gil&gt;29&lt;/gil&gt;</td>\n",
       "      <td>Consent MOTION for Extension of Time to File R...</td>\n",
       "    </tr>\n",
       "    <tr>\n",
       "      <th>4</th>\n",
       "      <td>IL-CDCT1:15CV01001</td>\n",
       "      <td>09/01/2017</td>\n",
       "      <td>39.0</td>\n",
       "      <td>ORDER entered by Judge Sara Darrow on Septembe...</td>\n",
       "      <td>&lt;gil&gt;27&lt;/gil&gt;</td>\n",
       "      <td>MOTION for Summary Judgment by Defendant Cater...</td>\n",
       "    </tr>\n",
       "  </tbody>\n",
       "</table>\n",
       "</div>"
      ],
      "text/plain": [
       "             legacyid        date  number  \\\n",
       "0  IL-CDCT1:15CV01001  01/11/2016     NaN   \n",
       "1  IL-CDCT1:15CV01001  08/26/2016     NaN   \n",
       "2  IL-CDCT1:15CV01001  01/23/2017     NaN   \n",
       "3  IL-CDCT1:15CV01001  05/16/2017     NaN   \n",
       "4  IL-CDCT1:15CV01001  09/01/2017    39.0   \n",
       "\n",
       "                                         description            gil  \\\n",
       "0  TEXT ORDER granting  <gil>11</gil>  Motion for...  <gil>11</gil>   \n",
       "1  TEXT ORDER: The Court adopts the parties' join...  <gil>21</gil>   \n",
       "2  TEXT ORDER granting  <gil>22</gil>  Motion for...  <gil>22</gil>   \n",
       "3  TEXT ORDER entered by Judge Sara Darrow on May...  <gil>29</gil>   \n",
       "4  ORDER entered by Judge Sara Darrow on Septembe...  <gil>27</gil>   \n",
       "\n",
       "                                              motion  \n",
       "0  Joint MOTION for Extension of Time to Complete...  \n",
       "1                                                NaN  \n",
       "2  Consent MOTION for Extension of Time to Comple...  \n",
       "3  Consent MOTION for Extension of Time to File R...  \n",
       "4  MOTION for Summary Judgment by Defendant Cater...  "
      ]
     },
     "execution_count": 40,
     "metadata": {},
     "output_type": "execute_result"
    }
   ],
   "source": [
    "print(len(ORDERS))\n",
    "ORDERS.head()"
   ]
  },
  {
   "cell_type": "code",
   "execution_count": 43,
   "id": "36a3b0d0",
   "metadata": {},
   "outputs": [
    {
     "data": {
      "text/plain": [
       "89192"
      ]
     },
     "execution_count": 43,
     "metadata": {},
     "output_type": "execute_result"
    }
   ],
   "source": [
    "#dropping out orders without a gil in them \n",
    "ORDERS = ORDERS[ORDERS['motion'].notna()]\n",
    "len(ORDERS)"
   ]
  },
  {
   "cell_type": "code",
   "execution_count": 44,
   "id": "cbce70fe",
   "metadata": {},
   "outputs": [
    {
     "data": {
      "text/plain": [
       "0.6370902649304638"
      ]
     },
     "execution_count": 44,
     "metadata": {},
     "output_type": "execute_result"
    }
   ],
   "source": [
    "len(ORDERS)/139999 "
   ]
  },
  {
   "cell_type": "code",
   "execution_count": 45,
   "id": "78a4d23a",
   "metadata": {},
   "outputs": [],
   "source": [
    "ORDERS[\"motion\"] = ORDERS[\"motion\"] .str.lower()"
   ]
  },
  {
   "cell_type": "code",
   "execution_count": 46,
   "id": "2899dcad",
   "metadata": {},
   "outputs": [
    {
     "data": {
      "text/html": [
       "<div>\n",
       "<style scoped>\n",
       "    .dataframe tbody tr th:only-of-type {\n",
       "        vertical-align: middle;\n",
       "    }\n",
       "\n",
       "    .dataframe tbody tr th {\n",
       "        vertical-align: top;\n",
       "    }\n",
       "\n",
       "    .dataframe thead th {\n",
       "        text-align: right;\n",
       "    }\n",
       "</style>\n",
       "<table border=\"1\" class=\"dataframe\">\n",
       "  <thead>\n",
       "    <tr style=\"text-align: right;\">\n",
       "      <th></th>\n",
       "      <th>legacyid</th>\n",
       "      <th>date</th>\n",
       "      <th>number</th>\n",
       "      <th>description</th>\n",
       "      <th>gil</th>\n",
       "      <th>motion</th>\n",
       "    </tr>\n",
       "  </thead>\n",
       "  <tbody>\n",
       "    <tr>\n",
       "      <th>0</th>\n",
       "      <td>IL-CDCT1:15CV01001</td>\n",
       "      <td>01/11/2016</td>\n",
       "      <td>NaN</td>\n",
       "      <td>TEXT ORDER granting  &lt;gil&gt;11&lt;/gil&gt;  Motion for...</td>\n",
       "      <td>&lt;gil&gt;11&lt;/gil&gt;</td>\n",
       "      <td>joint motion for extension of time to complete...</td>\n",
       "    </tr>\n",
       "    <tr>\n",
       "      <th>2</th>\n",
       "      <td>IL-CDCT1:15CV01001</td>\n",
       "      <td>01/23/2017</td>\n",
       "      <td>NaN</td>\n",
       "      <td>TEXT ORDER granting  &lt;gil&gt;22&lt;/gil&gt;  Motion for...</td>\n",
       "      <td>&lt;gil&gt;22&lt;/gil&gt;</td>\n",
       "      <td>consent motion for extension of time to comple...</td>\n",
       "    </tr>\n",
       "    <tr>\n",
       "      <th>3</th>\n",
       "      <td>IL-CDCT1:15CV01001</td>\n",
       "      <td>05/16/2017</td>\n",
       "      <td>NaN</td>\n",
       "      <td>TEXT ORDER entered by Judge Sara Darrow on May...</td>\n",
       "      <td>&lt;gil&gt;29&lt;/gil&gt;</td>\n",
       "      <td>consent motion for extension of time to file r...</td>\n",
       "    </tr>\n",
       "    <tr>\n",
       "      <th>4</th>\n",
       "      <td>IL-CDCT1:15CV01001</td>\n",
       "      <td>09/01/2017</td>\n",
       "      <td>39.0</td>\n",
       "      <td>ORDER entered by Judge Sara Darrow on Septembe...</td>\n",
       "      <td>&lt;gil&gt;27&lt;/gil&gt;</td>\n",
       "      <td>motion for summary judgment by defendant cater...</td>\n",
       "    </tr>\n",
       "    <tr>\n",
       "      <th>6</th>\n",
       "      <td>IL-CDCT1:15CV01002</td>\n",
       "      <td>05/05/2015</td>\n",
       "      <td>NaN</td>\n",
       "      <td>TEXT ORDER Entered by Chief Judge James E. Sha...</td>\n",
       "      <td>&lt;gil&gt;8&lt;/gil&gt;</td>\n",
       "      <td>motion for extension of time to file answer by...</td>\n",
       "    </tr>\n",
       "  </tbody>\n",
       "</table>\n",
       "</div>"
      ],
      "text/plain": [
       "             legacyid        date  number  \\\n",
       "0  IL-CDCT1:15CV01001  01/11/2016     NaN   \n",
       "2  IL-CDCT1:15CV01001  01/23/2017     NaN   \n",
       "3  IL-CDCT1:15CV01001  05/16/2017     NaN   \n",
       "4  IL-CDCT1:15CV01001  09/01/2017    39.0   \n",
       "6  IL-CDCT1:15CV01002  05/05/2015     NaN   \n",
       "\n",
       "                                         description            gil  \\\n",
       "0  TEXT ORDER granting  <gil>11</gil>  Motion for...  <gil>11</gil>   \n",
       "2  TEXT ORDER granting  <gil>22</gil>  Motion for...  <gil>22</gil>   \n",
       "3  TEXT ORDER entered by Judge Sara Darrow on May...  <gil>29</gil>   \n",
       "4  ORDER entered by Judge Sara Darrow on Septembe...  <gil>27</gil>   \n",
       "6  TEXT ORDER Entered by Chief Judge James E. Sha...   <gil>8</gil>   \n",
       "\n",
       "                                              motion  \n",
       "0  joint motion for extension of time to complete...  \n",
       "2  consent motion for extension of time to comple...  \n",
       "3  consent motion for extension of time to file r...  \n",
       "4  motion for summary judgment by defendant cater...  \n",
       "6  motion for extension of time to file answer by...  "
      ]
     },
     "execution_count": 46,
     "metadata": {},
     "output_type": "execute_result"
    }
   ],
   "source": [
    "ORDERS.head()"
   ]
  },
  {
   "cell_type": "code",
   "execution_count": 49,
   "id": "f2fc8fcd",
   "metadata": {},
   "outputs": [
    {
     "data": {
      "text/plain": [
       "10903"
      ]
     },
     "execution_count": 49,
     "metadata": {},
     "output_type": "execute_result"
    }
   ],
   "source": [
    "lastdf = ORDERS.loc[ORDERS['motion'].str.contains('to dismiss')]\n",
    "len(lastdf)"
   ]
  },
  {
   "cell_type": "code",
   "execution_count": 50,
   "id": "711d8a5b",
   "metadata": {},
   "outputs": [],
   "source": [
    "lastdf.to_csv('../data/motions_laws/to_dismiss.csv', index=False)"
   ]
  }
 ],
 "metadata": {
  "kernelspec": {
   "display_name": "Python 3 (ipykernel)",
   "language": "python",
   "name": "python3"
  },
  "language_info": {
   "codemirror_mode": {
    "name": "ipython",
    "version": 3
   },
   "file_extension": ".py",
   "mimetype": "text/x-python",
   "name": "python",
   "nbconvert_exporter": "python",
   "pygments_lexer": "ipython3",
   "version": "3.9.7"
  }
 },
 "nbformat": 4,
 "nbformat_minor": 5
}
